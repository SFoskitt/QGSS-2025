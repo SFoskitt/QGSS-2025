{
 "cells": [
  {
   "cell_type": "markdown",
   "id": "e6d6e368",
   "metadata": {},
   "source": [
    "# IBM Qiskit Primitives v2\n",
    "\n",
    "Sampler primitives\n",
    "    - low-level execution\n",
    "    - returns single shot measurement\n",
    "    - circuit should include measurement\n",
    "\n",
    "Estimator primitives\n",
    "    - high-level execution\n",
    "    - returns expectation values of observables\n",
    "    - circuit should not include measurement\n",
    "\n",
    "PUB - Primitive Unified Bloc\n",
    "    - program input for the Sampler\n",
    "    - generally a tuple\n",
    "\n",
    "    - Circuit - ISA quantum circuit containing 1 or more ClassicalRegister and measure instructions\n",
    "    - Parameter Values - tensor (ND-array) of sets of parameter values to evaluate parametric circuit\n",
    "\n",
    "Shots - number of samples or repetitions to measure the circuit\n",
    "\n",
    "Allowed pub-like inputs"
   ]
  },
  {
   "cell_type": "code",
   "execution_count": 1,
   "id": "76adbf43",
   "metadata": {},
   "outputs": [
    {
     "name": "stderr",
     "output_type": "stream",
     "text": [
      "/var/folders/kf/vmdscp_n18qfgr6xz5zv0sw40000gn/T/ipykernel_41205/230416974.py:4: DeprecationWarning: The \"ibm_quantum\" channel option is deprecated and will be sunset on 1 July. After this date, \"ibm_cloud\", \"ibm_quantum_platform\", and \"local\" will be the only valid channels. Open Plan users should migrate now.  All other users should review the migration guide (https://quantum.cloud.ibm.com/docs/migration-guides/classic-iqp-to-cloud-iqp)to learn when to migrate.\n",
      "  service = QiskitRuntimeService()\n"
     ]
    }
   ],
   "source": [
    "# Load qiskit runtime service and select backend\n",
    "from qiskit_ibm_runtime import QiskitRuntimeService\n",
    "\n",
    "service = QiskitRuntimeService()\n",
    "backend = service.backend('ibm_sherbrooke')"
   ]
  },
  {
   "cell_type": "code",
   "execution_count": 2,
   "id": "0f520794",
   "metadata": {},
   "outputs": [],
   "source": [
    "# Create a circuit and transpile to a backend ISA circuit\n",
    "from qiskit import QuantumCircuit, transpile\n",
    "\n",
    "bell_meas = QuantumCircuit(2)\n",
    "bell_meas.h(0)\n",
    "bell_meas.cx(0, 1)\n",
    "bell_meas.measure_all()\n",
    "\n",
    "isa_bell_meas = transpile(bell_meas, backend)\n",
    "pub_bell_meas = (isa_bell_meas)"
   ]
  },
  {
   "cell_type": "code",
   "execution_count": null,
   "id": "000375ac",
   "metadata": {},
   "outputs": [],
   "source": [
    "# Initialize a Sampler primitive and run pub\n",
    "from qiskit_ibm_runtime import SamplerV2\n",
    "\n",
    "sampler = SamplerV2(backend)\n",
    "job_bell_meas = sampler.run([pub_bell_meas], shots=2)\n",
    "\n",
    "result_bell_meas = job_bell_meas.result()\n",
    "data_bell_meas = result_bell_meas[0].data\n",
    "# data_bell_meas\n",
    "print(data_bell_meas)\n",
    "## this block of code does not stop running - neither at shots=10 nor at shots=2\n",
    "## it went as long as two minutes before I stopped it"
   ]
  },
  {
   "cell_type": "markdown",
   "id": "f35fe390",
   "metadata": {},
   "source": [
    "Sampler job returns `PrimitiveResult` object containing ordered list of PubResult \n",
    "PubResult = data container for a single input Pub's execution result\n",
    "PubResult.data = contains measurement outcome data for classical registers in pub circuit\n",
    "PubResult.metadata = metadata a primitive might record\n",
    "\n",
    "PubResult.data = DataBin class\n",
    "DataBin stores outcomes of measurements in ClassicalRegisters in the pub circuit\n",
    "\n"
   ]
  },
  {
   "cell_type": "code",
   "execution_count": null,
   "id": "ba77d80d",
   "metadata": {},
   "outputs": [],
   "source": [
    "# examples of accessing outcomes\n",
    "bits = data_bell_meas.meas\n",
    "print(\"shape: \", bits.shape)\n",
    "print(\"num_bits: \", bits.num_bits)\n",
    "print(\"num_shots: \", bits.num_shots)\n",
    "print(\"array \\n\", bits.array)\n",
    "## this block does not run because in the previous block data_bell_meas is never defined due to the long code run"
   ]
  },
  {
   "cell_type": "markdown",
   "id": "0f1b5bda",
   "metadata": {},
   "source": [
    "## ISA Circuits\n",
    "\n",
    "ISA circuit is a QuantumCircuit satisfying:\n",
    "1. same number of qubits as device\n",
    "2. only contains basic gates for a device\n",
    "3. satisfies connectivity of a device\n",
    "\n",
    "Obtained by transpilation\n",
    "\n",
    "## Parametric circuits\n",
    "\n",
    "* circuit that contains unbound parameter\n"
   ]
  },
  {
   "cell_type": "code",
   "execution_count": null,
   "id": "31b87c0a",
   "metadata": {},
   "outputs": [],
   "source": [
    "# SamplerV2 parametric example\n",
    "## This is an example only because this exercise does not define para_bell_meas\n",
    "\n",
    "import numpy as np\n",
    "\n",
    "# parameter values to evaluate with 20 theta values\n",
    "param_vals = np.linspace(0, np.pi, 20)\n",
    "\n",
    "# transpile to an ISA circuit for the intended backend\n",
    "isa_par_bell_meas = transpile(par_bell_meas, backend)\n",
    "\n",
    "# construct pub and run\n",
    "# pub and result shape\n",
    "pub_par_bell_meas = (isa_par_bell_meas, param_vals)\n",
    "job_par_bell_meas = sampler.run([pub_par_bell_meas], shots=1000)\n",
    "result_par_bell_meas = job_par_bell_meas.result()\n",
    "\n",
    "# extract creg data\n",
    "bits = result_par_bell_meas[0].data.meas\n",
    "\n",
    "########\n",
    "\n",
    "import matplotlib.pyplot as plt\n",
    "import seaborn\n",
    "seaborn.set()\n",
    "\n",
    "p0s = np.sum(bits.array == 0, axis=1) / bits.num_shots\n",
    "p1s = np.sum(bits.array == 3, axis=1) / bits.num_shots\n",
    "\n",
    "plt.plot(param_vals, p0s, label=\"P('00')\")\n",
    "plt.plot(param_vals, p1s, label=\"P('11')\")\n",
    "plt.xlabel(\"0\")\n",
    "plt.legend()\n",
    "plt.show()"
   ]
  },
  {
   "cell_type": "markdown",
   "id": "04f72cef",
   "metadata": {},
   "source": [
    "2025-06-29 - STOPPED HERE - 14:46 IN THE VIDEO - I need to cut off this exercise until later, maybe tomorrow"
   ]
  },
  {
   "cell_type": "markdown",
   "id": "f68767be",
   "metadata": {},
   "source": [
    "2025-07-01, Tue - started again"
   ]
  },
  {
   "cell_type": "code",
   "execution_count": null,
   "id": "c7956069",
   "metadata": {},
   "outputs": [],
   "source": [
    "# Sampler V2 shots\n",
    "\n",
    "#1 all shots in pub\n",
    "pub1a = (isa_bell_meas, None, 100)\n",
    "pub1b = (isa_bell_meas, None, 200)\n",
    "\n",
    "result1 = sampler.run([pub1a, pub1b], shots=1000).result()\n",
    "\n",
    "for i, res in enumerate(result1):\n",
    "    print(f\"Pub {i}: num_shots = {res.data.meas.num_shots}\")\n",
    "    "
   ]
  },
  {
   "cell_type": "code",
   "execution_count": null,
   "id": "ce0f2c6a",
   "metadata": {},
   "outputs": [],
   "source": [
    "#2 fall back to 'run' shots\n",
    "pub2a = (isa_bell_meas)\n",
    "pub2b = (isa_bell_meas, None, 200)\n",
    "\n",
    "result2 = sampler.run([pub2a, pub2b], shots=1000).result()\n",
    "\n",
    "for i, res in enumerate(result2):\n",
    "    print(f\"Pub {i}: num_shots={res.data.meas.num_shots}\")"
   ]
  },
  {
   "cell_type": "code",
   "execution_count": null,
   "id": "3398afee",
   "metadata": {},
   "outputs": [],
   "source": [
    "#3 fallback to 'default' shots\n",
    "pub3a = (isa_bell_meas)\n",
    "pub3b = (isa_bell_meas, None, 200)\n",
    "\n",
    "result3 = sampler.run([pub3a, pub3b]).result()\n",
    "\n",
    "for i, res in enumerate(result3):\n",
    "    print(f\"Pub {i}: num_shots = {res.data.meas.num_shots}\")"
   ]
  },
  {
   "cell_type": "markdown",
   "id": "82590e8b",
   "metadata": {},
   "source": [
    "## Estimator V2\n",
    "Estimator primitives are higher-level than Sampler V2\n",
    "\n",
    "- defined by its run method\n",
    "\n",
    "```python\n",
    "    Estimator.run(\n",
    "        pubs: list[EstimatorPub],\n",
    "        precision: float | None = None,\n",
    "    ) -> Job[EstimatorResult]\n",
    "```\n",
    "\n",
    "desired precision is optional"
   ]
  },
  {
   "cell_type": "code",
   "execution_count": null,
   "id": "8edbed75",
   "metadata": {},
   "outputs": [],
   "source": [
    "# representing observables\n",
    "# create isa circuit\n",
    "\n",
    "from qiskit_ibm_runtime import EstimatorV2\n",
    "\n",
    "# bell circuit\n",
    "bell = QuantumCircuit(2)\n",
    "bell.h(0)\n",
    "bell.cx(0,1)\n",
    "\n",
    "# transpile\n",
    "isa_bell = transpile(bell, backend)"
   ]
  },
  {
   "cell_type": "code",
   "execution_count": null,
   "id": "c223d6bf",
   "metadata": {},
   "outputs": [],
   "source": [
    "# create isa observable\n",
    "import qiskit.quantum_info as qi\n",
    "\n",
    "obs = qi.SparsePauliOp([\"ZZ\"])\n",
    "\n",
    "# transpile\n",
    "isa_obs = obs.apply_layout(isa_bell.layout)"
   ]
  },
  {
   "cell_type": "code",
   "execution_count": null,
   "id": "6cb9ce12",
   "metadata": {},
   "outputs": [],
   "source": [
    "# estimator databin\n",
    "\n",
    "# construct estimator\n",
    "estimator = EstimatorV2(backend)\n",
    "\n",
    "# construct pub and run\n",
    "pub = (isa_bell, isa_obs)\n",
    "est_result_bell = estimator.run([pub])\n",
    "\n",
    "# view result data\n",
    "data = est_result_bell[0].data\n",
    "evs = data.evs\n",
    "stds = data.stds\n",
    "print(f\"<ZZ> = {evs: .3f} +/- {stds: 3f}\")"
   ]
  },
  {
   "cell_type": "markdown",
   "id": "34ecd42c",
   "metadata": {},
   "source": [
    "## Estimator V2 shape\n",
    "\n",
    "-Trivial shaped pubs hava shape == ()\n",
    "-These return a single floast as the evs result\n",
    "\n",
    "Examples of shape==() pubs\n",
    "- a non-parametric pub with a single observable\n",
    "- a parametric pub with a single parameter value and a single observable\n",
    "\n",
    "## Estimator V2 Broadcating\n",
    "\n",
    "ND-array broadcasting rules\n",
    "- input arrays do not need to have the same number of dimensions\n",
    "- the resulting array will have the same number of dimensions as the largest\n",
    "- the size of each dimension is the largest size of corresponding dimension\n",
    "- missing dimensions are assumed to have size one\n",
    "- it starts with the trailing (rightmost) dimension and works its way left\n",
    "- two dimensions are compatible when their sizes are equal or one of them is 1\n",
    "\n",
    "Example:\n",
    "- A         (2d array):     5 x 4\n",
    "- B         (1d array):         1\n",
    "- Result    (2d array):     5 x 4\n",
    "\n",
    "Example:\n",
    "- A         (3d array):     15 x 3 x 5\n",
    "- B         (3d array):     15 x 1 x 5\n",
    "- Result    (3d array):     15 x 3 x 5"
   ]
  },
  {
   "cell_type": "code",
   "execution_count": null,
   "id": "5ffa8a5e",
   "metadata": {},
   "outputs": [],
   "source": [
    "# parameterized bell circuit\n",
    "theta = Parameter(\"0\")  # is this supposed to be theta symbol, not zero?\n",
    "par_bell = QuantumCircuit(2)\n",
    "par_bell.ry(theta, 0)\n",
    "par_bell.cx(0,1)\n",
    "\n",
    "# transpile to circuit\n",
    "isa_par_bell = transpile(par_bell, backend)\n",
    "\n",
    "# parameter values to evaluate with 20 theta values\n",
    "param_vals = np.linspace(0, np.pi, 20)\n",
    "\n",
    "# create observable array with 3 observables\n",
    "par_bell_obs = [\n",
    "    qi.SparsePauliOp([\"XX\"])\n",
    "    qi.SparsePauliOp([\"YY\"])\n",
    "    qi.SparsePauliOp([\"ZZ\"])\n",
    "]\n",
    "\n",
    "# transpile to observable and reshape to (3,1) array\n",
    "isa_par_bell_obs = [\n",
    "    [op.apply_layout(isa_par_bell.layout)]\n",
    "    for op in par_bell_obs\n",
    "]\n",
    "\n",
    "# construct pub and run\n",
    "pub = (isa_par_bell, isa_par_bell_obs, param_vals)\n",
    "\n",
    "# run estimator \n",
    "est_job_par_bell = estimator.run([pub])\n",
    "est_result_par_bell = est_job_par_bell.result()\n",
    "evs = est_result_par_bell[0].data.evs\n",
    "stds = est_result_par_bell[0].data.stds"
   ]
  },
  {
   "cell_type": "markdown",
   "id": "4300c234",
   "metadata": {},
   "source": [
    "## ISA Observables\n",
    "\n",
    "What is an ISA Observable?\n",
    "1. linear combination of Pauli's with real coefficients\n",
    "2. each Pauli is defined on the same number of qubits as an ISA circuit\n",
    "\n",
    "- if you are used to working with abstract observables you will need to apply the layout of a transpile circuit to map the observable qubits\n",
    "- several `SparsePauliOp` and `Pauli` operator classes have an `apply_layout` method to simplify this process"
   ]
  },
  {
   "cell_type": "code",
   "execution_count": null,
   "id": "cee772ef",
   "metadata": {},
   "outputs": [],
   "source": [
    "# example\n",
    "abstract_example = QuantumCircuit(1)\n",
    "abstract_example.h(0)\n",
    "isa_example = transpile(\n",
    "    abstract_example, backend, initial_layout=[4]\n",
    ")\n",
    "display(isa_example.draw('mpl', idle_wires=False))\n",
    "\n",
    "abstract_obs = qi.SparsePauliOp([\"X\", \"Y\", \"Z\"])\n",
    "abstract_obs.apply_layout(isa_example.layout)"
   ]
  },
  {
   "cell_type": "markdown",
   "id": "ef711eb2",
   "metadata": {},
   "source": [
    "## Estimator Containers\n",
    "\n",
    "- `ObservablesArray` and `BindingsArray` are new helper classes for manipulating these arrays\n",
    "- `ObservablesArray` is like NumPy array of SparsePauliOp observables\n",
    "- BindingsArray is like a NumPy array for names parameter value sets\n",
    "- Have convenience methods like (eg: shape)"
   ]
  },
  {
   "cell_type": "code",
   "execution_count": null,
   "id": "3bc33f84",
   "metadata": {},
   "outputs": [],
   "source": [
    "# Example\n",
    "from qiskit.primitives.containers.observables_array import (ObservablesArray)\n",
    "\n",
    "# shape (3,1) list of Pauli Array\n",
    "obs = ObservablesArray([\"XX\", \"YY\", \"ZZ\"]).reshape(3,1)\n",
    "\n",
    "# apply ISA circuit layout\n",
    "isa_obs = obs.apply_layout(isa_par_bell.layout)\n",
    "\n",
    "from qiskit.primitives.containers.bindings_array import (BindingsArray)\n",
    "\n",
    "BindingsArray({tuple(isa_par_bell.parameters): param_vals})\n",
    "BindingsArray(<shape=(20,0), num_parameters=1, parameters=['0']>)"
   ]
  },
  {
   "cell_type": "markdown",
   "id": "8c138e3d",
   "metadata": {},
   "source": [
    "## Measurement Observables\n",
    "\n",
    "- IBM primitives apply Pauli grouping to minimize the number of measurement circuits\n",
    "- groups Paulis that can be computed from marginals of a single measurement\n",
    "- grouping is done via the `PauliList.group_commuting(quibit_wise=True)`\n",
    "\n",
    "```Python\n",
    "    paulis = qi.PauliList([\n",
    "        \"ZII\", \"IZI\", \"IIZ\",\n",
    "        \"XII\", \"IXI\", \"IIX\",\n",
    "        \"YII\", \"IYI\", \"IIY\" \n",
    "    ])\n",
    "    paulis.group_commuting(qubit_wise=True)\n",
    "```"
   ]
  },
  {
   "cell_type": "markdown",
   "id": "f0921b29",
   "metadata": {},
   "source": [
    "## IBM runtime primitives options\n",
    "- the sampler and estimator API described allows creation of portable programs\n",
    "- the IBM runtime primitives support additional functionality which can be configured by options\n",
    "- enables automatic error suppression and mitigation methods\n",
    "\n",
    "Sampler Options:\n",
    "- `default_shots` \n",
    "- `dynamical_decoupling`\n",
    "- `twirling`\n",
    "\n",
    "Estimator options\n",
    "- `default_precision`\n",
    "- `default_shots`\n",
    "- `reilience_level`\n",
    "- `dynamical_coupling`\n",
    "- `twirling`\n",
    "- `resilience`\n",
    "\n",
    "\n",
    "## Pauli Twirling\n",
    "- requires transpiling circuit to identify layers of twirled 2-qubit gates or mesaurements\n",
    "- reparameterizes the circuit to allow parametrically inserting random paulis\n",
    "- samples randomly paulis to insert into the circuit in a specific way\n",
    "- averages (estimator) or concatenates (sampler) the results over samples\n",
    "\n",
    "\n",
    "## Twirling Options\n",
    "twirling is controlled via the following twirling options\n",
    "\n",
    "`enable_gates` whether to apply 2-qubit gate twirling\n",
    "`enable_measure` whether to apply twirling of measurements\n",
    "`num_randomizations` number of random samples to use when twirling or performing mitigation\n",
    "`shots_per_randomization` number of shots to run for each random sample\n",
    "`strategy` specify the strategy of twirling qubits in identified layers of 2-qubit twirled gates"
   ]
  },
  {
   "cell_type": "code",
   "execution_count": null,
   "id": "8f1316b4",
   "metadata": {},
   "outputs": [],
   "source": [
    "# set options after initializing\n",
    "twirl_sampler = SamplerV2(backend)\n",
    "twirl_sampler.options.twirling.enable_gates = True\n",
    "twirl_sampler.options.twirling.enable_measure = True\n",
    "twirl_sampler.options.twirling.strategy = 'active-circuit'\n",
    "\n",
    "# Pass options during initialization\n",
    "options = {\n",
    "    \"twirling\": {\n",
    "        \"enable_gates\": True,\n",
    "        \"enable_Measure\": True,\n",
    "        \"strategy\": \"active-circuit\",\n",
    "    },\n",
    "}\n",
    "twirl_sampler = SamplerV2(backend, options=options)"
   ]
  },
  {
   "cell_type": "markdown",
   "id": "4ea99047",
   "metadata": {},
   "source": [
    "## Twirling Strategy\n",
    "\n",
    "active - only twirl gate qubits in each layer\n",
    "active-accum - twirl the accumulated gate qubits up to and including the current layer\n",
    "active-circuit - in each layer twirl the union of all gate qubits in the whole circuit\n",
    "all - in each layer twirl all qubits in the circuit, including idle qubits"
   ]
  },
  {
   "cell_type": "markdown",
   "id": "9c76b923",
   "metadata": {},
   "source": [
    "## Estimator reilience sub-options\n",
    "\n",
    "IBM runtime estimator primitives supports built-in error mitigation methods\n",
    "\n",
    "Enable with the following resilience options\n",
    "`measure_mitigation` - whether to enable measurement error mitigation method\n",
    "`zne_mitigation` - whether to turn on Zero noise extrapolation error mitigation method\n",
    "`pec_mitigation` - whether to turn on probabalistic error cancellation error mitigation method\n",
    "\n",
    "sub-options:\n",
    "- `zne` additional options for configuring ZNE mitigation\n",
    "- `pec` additional options for configuring PEC mitigation\n",
    "- `measure_noise_learning` additional options for noise learning for measure mitigation\n",
    "\n",
    "\n",
    "## Estimator resilience levels\n",
    "\n",
    "built-in resilience levels to automate option configuration\n",
    "(there is a chart for this which I won't copy here)"
   ]
  },
  {
   "cell_type": "code",
   "execution_count": null,
   "id": "c9bb6ec8",
   "metadata": {},
   "outputs": [],
   "source": [
    "# initialize estimator for ZNE\n",
    "estimator = EstimatorV2(backend, options={\"resilience_level\": 2})\n",
    "\n",
    "# initialize and customize an estimator for ZNE\n",
    "estimator = EstimatorV2(backend)\n",
    "estimator.options.resilience_level = 2\n",
    "estimator.options.dynamical_decoupling.enable = True\n",
    "estimator.options.dynamical_decoupling.sequence_type = \"XY4\"\n",
    "estimator.options.resilience.zne.extrapolator = \"linear\""
   ]
  }
 ],
 "metadata": {
  "kernelspec": {
   "display_name": ".venv",
   "language": "python",
   "name": "python3"
  },
  "language_info": {
   "codemirror_mode": {
    "name": "ipython",
    "version": 3
   },
   "file_extension": ".py",
   "mimetype": "text/x-python",
   "name": "python",
   "nbconvert_exporter": "python",
   "pygments_lexer": "ipython3",
   "version": "3.13.5"
  }
 },
 "nbformat": 4,
 "nbformat_minor": 5
}
