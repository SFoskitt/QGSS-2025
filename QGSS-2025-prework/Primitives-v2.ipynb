{
 "cells": [
  {
   "cell_type": "markdown",
   "id": "e6d6e368",
   "metadata": {},
   "source": [
    "# IBM Qiskit Primitives v2\n",
    "\n",
    "Sampler primitives\n",
    "    - low-level execution\n",
    "    - returns single shot measurement\n",
    "    - circuit should include measurement\n",
    "\n",
    "Estimator primitives\n",
    "    - high-level execution\n",
    "    - returns expectation values of observables\n",
    "    - circuit should not include measurement\n",
    "\n",
    "PUB - Primitive Unified Bloc\n",
    "    - program input for the Sampler\n",
    "    - generally a tuple\n",
    "\n",
    "    - Circuit - ISA quantum circuit containing 1 or more ClassicalRegister and measure instructions\n",
    "    - Parameter Values - tensor (ND-array) of sets of parameter values to evaluate parametric circuit\n",
    "\n",
    "Shots - number of samples or repetitions to measure the circuit\n",
    "\n",
    "Allowed pub-like inputs"
   ]
  },
  {
   "cell_type": "code",
   "execution_count": 1,
   "id": "76adbf43",
   "metadata": {},
   "outputs": [
    {
     "name": "stderr",
     "output_type": "stream",
     "text": [
      "/var/folders/kf/vmdscp_n18qfgr6xz5zv0sw40000gn/T/ipykernel_41205/230416974.py:4: DeprecationWarning: The \"ibm_quantum\" channel option is deprecated and will be sunset on 1 July. After this date, \"ibm_cloud\", \"ibm_quantum_platform\", and \"local\" will be the only valid channels. Open Plan users should migrate now.  All other users should review the migration guide (https://quantum.cloud.ibm.com/docs/migration-guides/classic-iqp-to-cloud-iqp)to learn when to migrate.\n",
      "  service = QiskitRuntimeService()\n"
     ]
    }
   ],
   "source": [
    "# Load qiskit runtime service and select backend\n",
    "from qiskit_ibm_runtime import QiskitRuntimeService\n",
    "\n",
    "service = QiskitRuntimeService()\n",
    "backend = service.backend('ibm_sherbrooke')"
   ]
  },
  {
   "cell_type": "code",
   "execution_count": 2,
   "id": "0f520794",
   "metadata": {},
   "outputs": [],
   "source": [
    "# Create a circuit and transpile to a backend ISA circuit\n",
    "from qiskit import QuantumCircuit, transpile\n",
    "\n",
    "bell_meas = QuantumCircuit(2)\n",
    "bell_meas.h(0)\n",
    "bell_meas.cx(0, 1)\n",
    "bell_meas.measure_all()\n",
    "\n",
    "isa_bell_meas = transpile(bell_meas, backend)\n",
    "pub_bell_meas = (isa_bell_meas)"
   ]
  },
  {
   "cell_type": "code",
   "execution_count": null,
   "id": "000375ac",
   "metadata": {},
   "outputs": [],
   "source": [
    "# Initialize a Sampler primitive and run pub\n",
    "from qiskit_ibm_runtime import SamplerV2\n",
    "\n",
    "sampler = SamplerV2(backend)\n",
    "job_bell_meas = sampler.run([pub_bell_meas], shots=2)\n",
    "\n",
    "result_bell_meas = job_bell_meas.result()\n",
    "data_bell_meas = result_bell_meas[0].data\n",
    "# data_bell_meas\n",
    "print(data_bell_meas)\n",
    "## this block of code does not stop running - neither at shots=10 nor at shots=2\n",
    "## it went as long as two minutes before I stopped it"
   ]
  },
  {
   "cell_type": "markdown",
   "id": "f35fe390",
   "metadata": {},
   "source": [
    "Sampler job returns `PrimitiveResult` object containing ordered list of PubResult \n",
    "PubResult = data container for a single input Pub's execution result\n",
    "PubResult.data = contains measurement outcome data for classical registers in pub circuit\n",
    "PubResult.metadata = metadata a primitive might record\n",
    "\n",
    "PubResult.data = DataBin class\n",
    "DataBin stores outcomes of measurements in ClassicalRegisters in the pub circuit\n",
    "\n"
   ]
  },
  {
   "cell_type": "code",
   "execution_count": null,
   "id": "ba77d80d",
   "metadata": {},
   "outputs": [],
   "source": [
    "# examples of accessing outcomes\n",
    "bits = data_bell_meas.meas\n",
    "print(\"shape: \", bits.shape)\n",
    "print(\"num_bits: \", bits.num_bits)\n",
    "print(\"num_shots: \", bits.num_shots)\n",
    "print(\"array \\n\", bits.array)\n",
    "## this block does not run because in the previous block data_bell_meas is never defined due to the long code run"
   ]
  },
  {
   "cell_type": "markdown",
   "id": "0f1b5bda",
   "metadata": {},
   "source": [
    "## ISA Circuits\n",
    "\n",
    "ISA circuit is a QuantumCircuit satisfying:\n",
    "1. same number of qubits as device\n",
    "2. only contains basic gates for a device\n",
    "3. satisfies connectivity of a device\n",
    "\n",
    "Obtained by transpilation\n",
    "\n",
    "## Parametric circuits\n",
    "\n",
    "* circuit that contains unbound parameter\n"
   ]
  },
  {
   "cell_type": "code",
   "execution_count": null,
   "id": "31b87c0a",
   "metadata": {},
   "outputs": [],
   "source": [
    "# SamplerV2 parametric example\n",
    "## This is an example only because this exercise does not define para_bell_meas\n",
    "\n",
    "import numpy as np\n",
    "\n",
    "# parameter values to evaluate with 20 theta values\n",
    "param_vals = np.linspace(0, np.pi, 20)\n",
    "\n",
    "# transpile to an ISA circuit for the intended backend\n",
    "isa_par_bell_meas = transpile(par_bell_meas, backend)\n",
    "\n",
    "# construct pub and run\n",
    "# pub and result shape\n",
    "pub_par_bell_meas = (isa_par_bell_meas, param_vals)\n",
    "job_par_bell_meas = sampler.run([pub_par_bell_meas], shots=1000)\n",
    "result_par_bell_meas = job_par_bell_meas.result()\n",
    "\n",
    "# extract creg data\n",
    "bits = result_par_bell_meas[0].data.meas\n",
    "\n",
    "########\n",
    "\n",
    "import matplotlib.pyplot as plt\n",
    "import seaborn\n",
    "seaborn.set()\n",
    "\n",
    "p0s = np.sum(bits.array == 0, axis=1) / bits.num_shots\n",
    "p1s = np.sum(bits.array == 3, axis=1) / bits.num_shots\n",
    "\n",
    "plt.plot(param_vals, p0s, label=\"P('00')\")\n",
    "plt.plot(param_vals, p1s, label=\"P('11')\")\n",
    "plt.xlabel(\"0\")\n",
    "plt.legend()\n",
    "plt.show()"
   ]
  },
  {
   "cell_type": "markdown",
   "id": "04f72cef",
   "metadata": {},
   "source": [
    "2025-06-29 - STOPPED HERE - 14:46 IN THE VIDEO - I need to cut off this exercise until later, maybe tomorrow"
   ]
  }
 ],
 "metadata": {
  "kernelspec": {
   "display_name": ".venv",
   "language": "python",
   "name": "python3"
  },
  "language_info": {
   "codemirror_mode": {
    "name": "ipython",
    "version": 3
   },
   "file_extension": ".py",
   "mimetype": "text/x-python",
   "name": "python",
   "nbconvert_exporter": "python",
   "pygments_lexer": "ipython3",
   "version": "3.13.5"
  }
 },
 "nbformat": 4,
 "nbformat_minor": 5
}
